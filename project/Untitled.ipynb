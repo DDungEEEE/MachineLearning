{
 "cells": [
  {
   "cell_type": "code",
   "execution_count": 2,
   "id": "d8558d29-d0a0-49f9-ae55-f805fbd48034",
   "metadata": {},
   "outputs": [
    {
     "name": "stdout",
     "output_type": "stream",
     "text": [
      "Collecting pyreadstat\n",
      "  Obtaining dependency information for pyreadstat from https://files.pythonhosted.org/packages/ab/0e/b21f097c53c02b3fc256680ff5dc1b1497362f9ec4c62b4f32e1fed0fe36/pyreadstat-1.2.8-cp312-cp312-win_amd64.whl.metadata\n",
      "  Downloading pyreadstat-1.2.8-cp312-cp312-win_amd64.whl.metadata (1.1 kB)\n",
      "Requirement already satisfied: pandas>=1.2.0 in c:\\users\\thsdn\\appdata\\local\\programs\\python\\python312\\lib\\site-packages (from pyreadstat) (2.2.3)\n",
      "Requirement already satisfied: numpy>=1.26.0 in c:\\users\\thsdn\\appdata\\local\\programs\\python\\python312\\lib\\site-packages (from pandas>=1.2.0->pyreadstat) (2.2.3)\n",
      "Requirement already satisfied: python-dateutil>=2.8.2 in c:\\users\\thsdn\\appdata\\local\\programs\\python\\python312\\lib\\site-packages (from pandas>=1.2.0->pyreadstat) (2.9.0.post0)\n",
      "Requirement already satisfied: pytz>=2020.1 in c:\\users\\thsdn\\appdata\\local\\programs\\python\\python312\\lib\\site-packages (from pandas>=1.2.0->pyreadstat) (2025.1)\n",
      "Requirement already satisfied: tzdata>=2022.7 in c:\\users\\thsdn\\appdata\\local\\programs\\python\\python312\\lib\\site-packages (from pandas>=1.2.0->pyreadstat) (2025.1)\n",
      "Requirement already satisfied: six>=1.5 in c:\\users\\thsdn\\appdata\\local\\programs\\python\\python312\\lib\\site-packages (from python-dateutil>=2.8.2->pandas>=1.2.0->pyreadstat) (1.17.0)\n",
      "Downloading pyreadstat-1.2.8-cp312-cp312-win_amd64.whl (2.4 MB)\n",
      "   ---------------------------------------- 0.0/2.4 MB ? eta -:--:--\n",
      "   ---------------------------------------- 0.0/2.4 MB ? eta -:--:--\n",
      "    --------------------------------------- 0.0/2.4 MB 435.7 kB/s eta 0:00:06\n",
      "   --- ------------------------------------ 0.2/2.4 MB 1.9 MB/s eta 0:00:02\n",
      "   ------- -------------------------------- 0.5/2.4 MB 3.3 MB/s eta 0:00:01\n",
      "   ----------- ---------------------------- 0.7/2.4 MB 3.7 MB/s eta 0:00:01\n",
      "   ------------------- -------------------- 1.2/2.4 MB 4.9 MB/s eta 0:00:01\n",
      "   ------------------------ --------------- 1.5/2.4 MB 5.3 MB/s eta 0:00:01\n",
      "   --------------------------------- ------ 2.0/2.4 MB 6.1 MB/s eta 0:00:01\n",
      "   ---------------------------------------  2.4/2.4 MB 6.4 MB/s eta 0:00:01\n",
      "   ---------------------------------------- 2.4/2.4 MB 6.2 MB/s eta 0:00:00\n",
      "Installing collected packages: pyreadstat\n",
      "Successfully installed pyreadstat-1.2.8\n",
      "Note: you may need to restart the kernel to use updated packages.\n"
     ]
    },
    {
     "name": "stderr",
     "output_type": "stream",
     "text": [
      "\n",
      "[notice] A new release of pip is available: 23.2.1 -> 25.0.1\n",
      "[notice] To update, run: python.exe -m pip install --upgrade pip\n"
     ]
    }
   ],
   "source": [
    "pip install pyreadstat"
   ]
  },
  {
   "cell_type": "code",
   "execution_count": 3,
   "id": "71104f13-3157-4dbc-96e6-b1c34c618de6",
   "metadata": {},
   "outputs": [],
   "source": [
    "import pandas as pd\n",
    "import pyreadstat"
   ]
  },
  {
   "cell_type": "code",
   "execution_count": 4,
   "id": "46ec73ea-39a7-4c02-8492-944d7b439dc9",
   "metadata": {},
   "outputs": [],
   "source": [
    "df, meta = pyreadstat.read_sav(\"hn23_all.sav\")"
   ]
  },
  {
   "cell_type": "code",
   "execution_count": 5,
   "id": "2905674e-55ed-48fa-978a-e4bc526615c0",
   "metadata": {},
   "outputs": [
    {
     "name": "stdout",
     "output_type": "stream",
     "text": [
      "         mod_d          ID    ID_fam    year  region  town_t  apt_t   psu  \\\n",
      "0  2024.12.10.  YA84208301  YA842083  2023.0     1.0     1.0    2.0  YA84   \n",
      "1  2024.12.10.  YA84208302  YA842083  2023.0     1.0     1.0    2.0  YA84   \n",
      "2  2024.12.10.  YA84212402  YA842124  2023.0     1.0     1.0    2.0  YA84   \n",
      "3  2024.12.10.  YA84212404  YA842124  2023.0     1.0     1.0    2.0  YA84   \n",
      "4  2024.12.10.  YA84242702  YA842427  2023.0     1.0     1.0    2.0  YA84   \n",
      "\n",
      "   sex   age  ...      N_CAROT     N_RETIN      N_B1      N_B2     N_NIAC  \\\n",
      "0  1.0  75.0  ...  2704.555129   22.304061  0.689636  0.911565   4.519287   \n",
      "1  2.0  70.0  ...  1190.505880   44.455061  1.010501  0.839130   6.333379   \n",
      "2  2.0  42.0  ...  6752.011600  364.273465  1.839332  3.257774  24.363661   \n",
      "3  2.0   9.0  ...  2213.362823  893.834459  1.873845  2.962366  22.194257   \n",
      "4  1.0  43.0  ...  2136.906180  309.283062  1.086500  2.021552  10.360013   \n",
      "\n",
      "     N_FOLATE     N_VITC  LF_SECUR_Y  LF_BUYER  LF_SAFE  \n",
      "0  108.528994  29.390490         1.0       1.0      1.0  \n",
      "1   52.454348  15.650710         1.0       1.0      1.0  \n",
      "2  231.528144  35.242941         1.0       1.0      2.0  \n",
      "3  374.230895  69.595766         1.0       1.0      2.0  \n",
      "4  366.058694  65.171145         1.0       1.0      1.0  \n",
      "\n",
      "[5 rows x 629 columns]\n"
     ]
    }
   ],
   "source": [
    "print(df.head())"
   ]
  },
  {
   "cell_type": "code",
   "execution_count": null,
   "id": "e1129189-8d33-4332-a6a4-c087d954f5fa",
   "metadata": {},
   "outputs": [],
   "source": []
  }
 ],
 "metadata": {
  "kernelspec": {
   "display_name": "Python 3 (ipykernel)",
   "language": "python",
   "name": "python3"
  },
  "language_info": {
   "codemirror_mode": {
    "name": "ipython",
    "version": 3
   },
   "file_extension": ".py",
   "mimetype": "text/x-python",
   "name": "python",
   "nbconvert_exporter": "python",
   "pygments_lexer": "ipython3",
   "version": "3.12.0"
  }
 },
 "nbformat": 4,
 "nbformat_minor": 5
}
